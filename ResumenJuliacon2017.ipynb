{
 "cells": [
  {
   "cell_type": "markdown",
   "metadata": {},
   "source": [
    "# JuliaCon 2017 | Computation and Data in a Polyglot World | Fernando Pérez\n",
    "# Resumen\n",
    "Muchas de las ramas de la ciencia tienen algo en común que es el manejo de datos, y esta cantidad de datos normalmente son almacenados en computadoras o supercomputadoras, gastando toneladas de espacio de almacenamiento; IPython y Jupyter tienen un proyecto en el cual tratan de dar las herramientas para que todas las computadoras puedan comprender los datos independientemente del lenguaje de programación que utilicen.\n",
    "\n",
    "IPython revoluciono en el 2001 porque ofrecía una herramienta que es la terminal, y además lo que es la combinación de código, acceso a los archivos de datos y su visualización, interactividad y un mejor flujo de trabajo.\n",
    "\n",
    "Al gustarle tanto a las personas la libreta IPython se creo un proyecto llamado Jupyter, en el cual no importa el código de programación que utilizes, donde es fácil la comunicación entre el trabajo en la terminal y el buscador web.\n",
    "\n",
    "Un problema de los lenguajes de programación es que tardan mucho en dar un resultado por lo que necesitas una supercomputadora, o es muy difícil escribir el código debido a que debe entenderlo el lenguaje, y entonces llega Julia que es un lenguaje de programación donde es fácil escribir el comando y da resultados muy rápidamente.\n",
    "\n",
    "Jupyter esta conectado a la plataforma de github, así que tu puedes trabajar en Jupyter y subir la información a github, de esta manera todo el código sera público y cualquiera podrá descargarlo o copiarlo para trabajar con el de manera gratuita.\n",
    "\n",
    "Básicamente lo que busca Julia es convertirse en una herramienta que todos los estudiantes puedan utilizar para hacer ciencia, ser una librería de cursos que cualquier persona pueda tomar, además de que cumple con la función de que no necesitas una supercomputadora para programar con Julia.\n",
    "\n",
    "Por ultimo Julia es un lenguaje globalizado que cualquier persona puede utilizar desde cualquier computadora."
   ]
  },
  {
   "cell_type": "code",
   "execution_count": null,
   "metadata": {
    "collapsed": true
   },
   "outputs": [],
   "source": []
  }
 ],
 "metadata": {
  "kernelspec": {
   "display_name": "Julia 0.5.2",
   "language": "julia",
   "name": "julia-0.5"
  },
  "language_info": {
   "file_extension": ".jl",
   "mimetype": "application/julia",
   "name": "julia",
   "version": "0.5.2"
  }
 },
 "nbformat": 4,
 "nbformat_minor": 2
}
