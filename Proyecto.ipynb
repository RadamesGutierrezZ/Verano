{
 "cells": [
  {
   "cell_type": "markdown",
   "metadata": {},
   "source": [
    "# Proyecto"
   ]
  },
  {
   "cell_type": "markdown",
   "metadata": {},
   "source": [
    "# Introducción\n",
    "La tecnología GNSS sigue avanzando con el paso del tiempo, y cada vez se encuentran más aplicaciones para esta, hoy en día una aplicación muy útil es la de detectar la magnitud de un sismo de manera rápida, el método consiste en visualizar los vectores de movimiento de los receptores justo después de que ocurre un sismo, y con ayuda de una formula se puede determinar con gran precisión cual fue la magnitud del sismo,  esto aparte da origen a más aplicaciones como lo es el conocer el impacto de los tsunamis en distintas zonas,  pero aún se están realizando pruebas, el método consiste en su determinación de manera indirecta que tendrán los tsunamis sobre una zona, consiste en conocer primeramente la magnitud del sismo y localización con ayuda receptores para después pasar a saber donde y como impactara el tsunami.\n",
    "La tecnología GNSS ha demostrado ser de gran ayuda en el campo de la sismología, en este proyecto utilizaremos los datos que dicha tecnología nos ofrece y trataremos de manipularla con distintos programas para la realización de gráficas, los datos serán específicamente sobre receptores cercanos a volcanes, ya que se conoce que la actividad de los volcanes produce microsismos, y es de gran interés saber cuándo un volcán esta en actividad."
   ]
  },
  {
   "cell_type": "markdown",
   "metadata": {},
   "source": [
    "# Objetivos del proyecto\n",
    "\n",
    "Utilizar el lenguaje de programación Julia para producir series de tiempo a partir de datos GNSS y saber si este tipo de graficas se compara a las producidas por GAMIT/GLOBK."
   ]
  },
  {
   "cell_type": "code",
   "execution_count": null,
   "metadata": {
    "collapsed": true
   },
   "outputs": [],
   "source": []
  }
 ],
 "metadata": {
  "kernelspec": {
   "display_name": "Julia 0.5.2",
   "language": "julia",
   "name": "julia-0.5"
  },
  "language_info": {
   "file_extension": ".jl",
   "mimetype": "application/julia",
   "name": "julia",
   "version": "0.5.2"
  }
 },
 "nbformat": 4,
 "nbformat_minor": 2
}
